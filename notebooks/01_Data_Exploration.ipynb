{
 "cells": [
  {
   "cell_type": "code",
   "execution_count": 1,
   "metadata": {},
   "outputs": [],
   "source": [
    "import pandas as pd\n",
    "import matplotlib.pyplot as plt\n",
    "import seaborn as sns"
   ]
  },
  {
   "cell_type": "code",
   "execution_count": 3,
   "metadata": {},
   "outputs": [],
   "source": [
    "# Load the data\n",
    "df = pd.read_csv('D:/YouTube Analysis/data/processed/comments_with_sentiment.csv')"
   ]
  },
  {
   "cell_type": "code",
   "execution_count": 4,
   "metadata": {},
   "outputs": [
    {
     "name": "stdout",
     "output_type": "stream",
     "text": [
      "<class 'pandas.core.frame.DataFrame'>\n",
      "RangeIndex: 773 entries, 0 to 772\n",
      "Data columns (total 9 columns):\n",
      " #   Column                 Non-Null Count  Dtype  \n",
      "---  ------                 --------------  -----  \n",
      " 0   serial number          773 non-null    int64  \n",
      " 1   comment                773 non-null    object \n",
      " 2   demojized_comment      773 non-null    object \n",
      " 3   cleaned_comment        772 non-null    object \n",
      " 4   lemmatized_tokens      773 non-null    object \n",
      " 5   sentiment_vader        773 non-null    object \n",
      " 6   sentiment_textblob     773 non-null    object \n",
      " 7   sentiment_transformer  773 non-null    object \n",
      " 8   transformer_score      773 non-null    float64\n",
      "dtypes: float64(1), int64(1), object(7)\n",
      "memory usage: 54.5+ KB\n",
      "None\n",
      "       serial number  transformer_score\n",
      "count      773.00000         773.000000\n",
      "mean       387.00000           0.930942\n",
      "std        223.29017           0.119005\n",
      "min          1.00000           0.503464\n",
      "25%        194.00000           0.938550\n",
      "50%        387.00000           0.984570\n",
      "75%        580.00000           0.997615\n",
      "max        773.00000           0.999880\n"
     ]
    }
   ],
   "source": [
    "# Display basic information\n",
    "print(df.info())\n",
    "print(df.describe())"
   ]
  },
  {
   "cell_type": "code",
   "execution_count": 5,
   "metadata": {},
   "outputs": [
    {
     "name": "stdout",
     "output_type": "stream",
     "text": [
      "serial number            0\n",
      "comment                  0\n",
      "demojized_comment        0\n",
      "cleaned_comment          1\n",
      "lemmatized_tokens        0\n",
      "sentiment_vader          0\n",
      "sentiment_textblob       0\n",
      "sentiment_transformer    0\n",
      "transformer_score        0\n",
      "dtype: int64\n"
     ]
    }
   ],
   "source": [
    "# Check for missing values\n",
    "print(df.isnull().sum())"
   ]
  },
  {
   "cell_type": "code",
   "execution_count": 6,
   "metadata": {},
   "outputs": [
    {
     "data": {
      "image/png": "[encoded data removed]",
      "text/plain": [
       "<Figure size 640x480 with 1 Axes>"
      ]
     },
     "metadata": {},
     "output_type": "display_data"
    }
   ],
   "source": [
    "# View sentiment distribution\n",
    "sns.countplot(x='sentiment_vader', data=df)\n",
    "plt.title('Sentiment Distribution (VADER)')\n",
    "plt.show()"
   ]
  }
 ],
 "metadata": {
  "kernelspec": {
   "display_name": "venv",
   "language": "python",
   "name": "python3"
  },
  "language_info": {
   "codemirror_mode": {
    "name": "ipython",
    "version": 3
   },
   "file_extension": ".py",
   "mimetype": "text/x-python",
   "name": "python",
   "nbconvert_exporter": "python",
   "pygments_lexer": "ipython3",
   "version": "3.12.0"
  }
 },
 "nbformat": 4,
 "nbformat_minor": 2
}
